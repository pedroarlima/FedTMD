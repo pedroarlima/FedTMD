{
 "cells": [
  {
   "cell_type": "code",
   "execution_count": null,
   "metadata": {},
   "outputs": [],
   "source": [
    "# ESTAS CÉLULAS FORAM EXECUTADAS DEPOIS DAS CELULAS DO ARQUIVO \"notebook_simulations_without_selection.ipynb\""
   ]
  },
  {
   "cell_type": "code",
   "execution_count": null,
   "metadata": {},
   "outputs": [],
   "source": [
    "from sklearn.metrics import confusion_matrix\n",
    "import seaborn as sns\n",
    "import matplotlib.pyplot as plt\n",
    "import const_flwr, util_flwr\n",
    "import numpy as np\n",
    "from keras.models import load_model"
   ]
  },
  {
   "cell_type": "code",
   "execution_count": null,
   "metadata": {},
   "outputs": [],
   "source": [
    "aggregated_global_model_filename = const_flwr.DIR_MODELS + \"/\"+ str(rd) + \"_\" + str(lr) + \"_\" + str(bz) + \"_\" + str(le) + \"/\" + './aggregated_global_model.h5'\n",
    "\n",
    "model = load_model(aggregated_global_model_filename)   "
   ]
  },
  {
   "cell_type": "code",
   "execution_count": null,
   "metadata": {},
   "outputs": [],
   "source": [
    "x_train, y_train, x_test, y_test= util_flwr.load_TMD_Centralized_dataset_OneHot() "
   ]
  },
  {
   "cell_type": "code",
   "execution_count": null,
   "metadata": {},
   "outputs": [],
   "source": [
    "model.fit(x_train, y_train)"
   ]
  },
  {
   "cell_type": "code",
   "execution_count": null,
   "metadata": {},
   "outputs": [],
   "source": [
    "y_pred_onehot = model.predict(x_test)\n",
    "print(y_pred_onehot)"
   ]
  },
  {
   "cell_type": "code",
   "execution_count": null,
   "metadata": {},
   "outputs": [],
   "source": [
    "y_pred = np.argmax(y_pred_onehot, axis=1)\n",
    "y_test_labels = np.argmax(y_test, axis=1)\n",
    "print(y_test_labels)"
   ]
  },
  {
   "cell_type": "code",
   "execution_count": null,
   "metadata": {},
   "outputs": [],
   "source": [
    "conf_matrix = confusion_matrix(y_test_labels, y_pred)"
   ]
  },
  {
   "cell_type": "code",
   "execution_count": null,
   "metadata": {},
   "outputs": [],
   "source": [
    "# {'Bus': 0, 'Car': 1, 'Still': 2, 'Train': 3, 'Walking': 4}\n",
    "plt.figure(figsize=(8, 6))\n",
    "sns.heatmap(conf_matrix, annot=True, fmt=\"d\", cmap=\"Blues\", cbar=False,\n",
    "            xticklabels=[\"Bus\", \"Car\", \"Still\", \"Train\", \"Walking\"],\n",
    "            yticklabels=[\"Bus\", \"Car\", \"Still\", \"Train\", \"Walking\"])\n",
    "plt.xlabel(\"Predicted\")\n",
    "plt.ylabel(\"Expected\")\n",
    "plt.show()"
   ]
  }
 ],
 "metadata": {
  "kernelspec": {
   "display_name": "Python 3",
   "language": "python",
   "name": "python3"
  },
  "language_info": {
   "name": "python",
   "version": "3.11.4"
  }
 },
 "nbformat": 4,
 "nbformat_minor": 2
}
