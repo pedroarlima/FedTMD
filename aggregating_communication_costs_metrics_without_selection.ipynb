{
 "cells": [
  {
   "cell_type": "code",
   "execution_count": 1,
   "metadata": {},
   "outputs": [],
   "source": [
    "import os\n",
    "import pandas as pd"
   ]
  },
  {
   "cell_type": "code",
   "execution_count": 2,
   "metadata": {},
   "outputs": [],
   "source": [
    "data_directory = \"./FedTMD_fit_costs_per_round_no_selection/\"  # Substitua pelo diretório correto onde estão os arquivos .csv\n"
   ]
  },
  {
   "cell_type": "code",
   "execution_count": 3,
   "metadata": {},
   "outputs": [],
   "source": [
    "# Lista para armazenar os DataFrames carregados de cada arquivo .csv\n",
    "data_frames = []\n",
    "\n",
    "output_concat_csv = \"./aggregated_communication_costs_results_without_selection.csv\""
   ]
  },
  {
   "cell_type": "code",
   "execution_count": 4,
   "metadata": {},
   "outputs": [
    {
     "name": "stderr",
     "output_type": "stream",
     "text": [
      "C:\\Users\\windows\\AppData\\Local\\Temp\\ipykernel_8980\\2193557738.py:7: RuntimeWarning: invalid value encountered in double_scalars\n",
      "  return (2 * ((row['precision'] * row['recall']) / (row['precision'] + row['recall'])))\n"
     ]
    }
   ],
   "source": [
    "try:\n",
    "    df_results = pd.read_csv(output_concat_csv)\n",
    "except FileNotFoundError:\n",
    "    df_results = pd.DataFrame(columns=['num_rounds','learning_rate', 'batch_size', 'local_epochs', 'accuracy', 'precision', 'recall', 'cost', 'bound'])\n",
    "\n",
    "def calcular_f1_score(row):\n",
    "    return (2 * ((row['precision'] * row['recall']) / (row['precision'] + row['recall'])))\n",
    "\n",
    "\n",
    "# Loop pelas pastas no diretório\n",
    "for folder in os.listdir(data_directory):\n",
    "    folder_path = os.path.join(data_directory, folder)\n",
    "    if os.path.isdir(folder_path):  # Verifica se é uma pasta\n",
    "        # Extrair os parâmetros do nome da pasta\n",
    "        folder_parts = folder.split(\"_\")\n",
    "        num_rounds = int(folder_parts[0])\n",
    "        learning_rate = float(folder_parts[1])\n",
    "        batch_size = int(folder_parts[2])\n",
    "        local_epochs = int(folder_parts[3])\n",
    "        \n",
    "        # Localizar o arquivo aggregated_evaluation_metrics.csv dentro da pasta\n",
    "        file_path = os.path.join(folder_path, \"aggregated_fit_metrics.csv\")\n",
    "\n",
    "        \n",
    "        if os.path.exists(file_path):\n",
    "            # Carregar o arquivo .csv original em um DataFrame do pandas\n",
    "            original_df = pd.read_csv(file_path)\n",
    "            \n",
    "            # Criar novo dataframe para as médias\n",
    "            #df_results = pd.DataFrame(columns=['num_rounds','learning_rate', 'batch_size', 'local_epochs', 'loss', 'accuracy', 'precision', 'recall', 'cost', 'bound'])\n",
    "            \n",
    "\n",
    "            # Adicionar colunas de parâmetros ao DataFrame\n",
    "            df_feature = pd.DataFrame(\n",
    "                    {'num_rounds': [num_rounds] ,\n",
    "                     'learning_rate': [learning_rate], \n",
    "                     'batch_size': [batch_size], \n",
    "                     'local_epochs': [local_epochs] ,\n",
    "                     'cost': [int(original_df['cost'].sum())],\n",
    "                     'bound': [int(original_df['bound'].iloc[0])],\n",
    "                     'accuracy': [original_df['accuracy'].mean()] , \n",
    "                     'precision': [original_df[\"precision\"].mean()]  , \n",
    "                     'recall': [original_df[\"recall\"].mean()] \n",
    "                     }\n",
    "                    )\n",
    "            \n",
    "            df_feature['f1_score'] = original_df.apply(calcular_f1_score, axis=1)\n",
    "            df_feature['f1_score'] = df_feature['f1_score'].values[0]\n",
    "\n",
    "\n",
    "            # Concatene o novo dataframe com o dataframe existente\n",
    "            df_results = pd.concat([df_results, df_feature], ignore_index=True)\n",
    "\n",
    "        else:\n",
    "            print(f\"Warning: File 'aggregated_fit_metrics.csv' not found in folder {folder}.\")\n",
    "    \n",
    "\n",
    "    \n"
   ]
  },
  {
   "cell_type": "code",
   "execution_count": 5,
   "metadata": {},
   "outputs": [],
   "source": [
    "    # Concatenar todos os DataFrames em um único DataFrame\n",
    "    #df_concat = pd.concat(data_frames, ignore_index=True)\n",
    "    # Salvar o DataFrame concatenado como um arquivo CSV\n",
    "\n",
    "    #df_concat.to_csv(output_concat_csv, index=False)\n",
    "    #new_df.to_csv(output_concat_csv, index=False)\n",
    "df_results.to_csv(output_concat_csv, index=False)\n",
    "             \n"
   ]
  }
 ],
 "metadata": {
  "kernelspec": {
   "display_name": "Python 3",
   "language": "python",
   "name": "python3"
  },
  "language_info": {
   "codemirror_mode": {
    "name": "ipython",
    "version": 3
   },
   "file_extension": ".py",
   "mimetype": "text/x-python",
   "name": "python",
   "nbconvert_exporter": "python",
   "pygments_lexer": "ipython3",
   "version": "3.11.4"
  },
  "orig_nbformat": 4
 },
 "nbformat": 4,
 "nbformat_minor": 2
}
