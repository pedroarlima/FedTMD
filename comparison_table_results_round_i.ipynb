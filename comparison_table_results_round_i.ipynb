{
 "cells": [
  {
   "cell_type": "code",
   "execution_count": 1,
   "metadata": {},
   "outputs": [],
   "source": [
    "import pandas as pd\n",
    "import matplotlib.pyplot as plt\n",
    "import seaborn as sns\n",
    "import numpy as np"
   ]
  },
  {
   "cell_type": "code",
   "execution_count": 2,
   "metadata": {},
   "outputs": [],
   "source": [
    "df_with_selection = pd.read_csv('client-side_simulation_results_with_selection.csv')\n",
    "\n",
    "df_without_selection = pd.read_csv('client-side_simulation_results_without_selection.csv')"
   ]
  },
  {
   "cell_type": "code",
   "execution_count": 3,
   "metadata": {},
   "outputs": [
    {
     "data": {
      "text/plain": [
       "num_rounds\n",
       "1     0.629710\n",
       "5     0.673964\n",
       "10    0.678346\n",
       "50    0.727749\n",
       "Name: accuracy, dtype: float64"
      ]
     },
     "execution_count": 3,
     "metadata": {},
     "output_type": "execute_result"
    }
   ],
   "source": [
    "df_with_selection.groupby('num_rounds')['accuracy'].mean()\n",
    "\n"
   ]
  },
  {
   "cell_type": "code",
   "execution_count": 4,
   "metadata": {},
   "outputs": [
    {
     "data": {
      "text/plain": [
       "num_rounds\n",
       "1     0.626937\n",
       "5     0.646592\n",
       "10    0.658793\n",
       "50    0.690098\n",
       "Name: accuracy, dtype: float64"
      ]
     },
     "execution_count": 4,
     "metadata": {},
     "output_type": "execute_result"
    }
   ],
   "source": [
    "df_without_selection.groupby('num_rounds')['accuracy'].mean()"
   ]
  },
  {
   "cell_type": "code",
   "execution_count": 5,
   "metadata": {},
   "outputs": [
    {
     "data": {
      "text/html": [
       "<div>\n",
       "<style scoped>\n",
       "    .dataframe tbody tr th:only-of-type {\n",
       "        vertical-align: middle;\n",
       "    }\n",
       "\n",
       "    .dataframe tbody tr th {\n",
       "        vertical-align: top;\n",
       "    }\n",
       "\n",
       "    .dataframe thead th {\n",
       "        text-align: right;\n",
       "    }\n",
       "</style>\n",
       "<table border=\"1\" class=\"dataframe\">\n",
       "  <thead>\n",
       "    <tr style=\"text-align: right;\">\n",
       "      <th></th>\n",
       "      <th>num_rounds</th>\n",
       "      <th>learning_rate</th>\n",
       "      <th>batch_size</th>\n",
       "      <th>local_epochs</th>\n",
       "      <th>accuracy</th>\n",
       "      <th>precision</th>\n",
       "      <th>recall</th>\n",
       "    </tr>\n",
       "  </thead>\n",
       "  <tbody>\n",
       "    <tr>\n",
       "      <th>0</th>\n",
       "      <td>10</td>\n",
       "      <td>0.001</td>\n",
       "      <td>128</td>\n",
       "      <td>1</td>\n",
       "      <td>0.147939</td>\n",
       "      <td>0.249460</td>\n",
       "      <td>0.000934</td>\n",
       "    </tr>\n",
       "    <tr>\n",
       "      <th>1</th>\n",
       "      <td>10</td>\n",
       "      <td>0.001</td>\n",
       "      <td>128</td>\n",
       "      <td>10</td>\n",
       "      <td>0.451094</td>\n",
       "      <td>0.629112</td>\n",
       "      <td>0.117012</td>\n",
       "    </tr>\n",
       "    <tr>\n",
       "      <th>2</th>\n",
       "      <td>10</td>\n",
       "      <td>0.001</td>\n",
       "      <td>128</td>\n",
       "      <td>2</td>\n",
       "      <td>0.402457</td>\n",
       "      <td>0.526279</td>\n",
       "      <td>0.031780</td>\n",
       "    </tr>\n",
       "    <tr>\n",
       "      <th>3</th>\n",
       "      <td>10</td>\n",
       "      <td>0.001</td>\n",
       "      <td>128</td>\n",
       "      <td>5</td>\n",
       "      <td>0.393199</td>\n",
       "      <td>0.597198</td>\n",
       "      <td>0.078594</td>\n",
       "    </tr>\n",
       "    <tr>\n",
       "      <th>4</th>\n",
       "      <td>10</td>\n",
       "      <td>0.001</td>\n",
       "      <td>16</td>\n",
       "      <td>1</td>\n",
       "      <td>0.397579</td>\n",
       "      <td>0.752582</td>\n",
       "      <td>0.092091</td>\n",
       "    </tr>\n",
       "    <tr>\n",
       "      <th>...</th>\n",
       "      <td>...</td>\n",
       "      <td>...</td>\n",
       "      <td>...</td>\n",
       "      <td>...</td>\n",
       "      <td>...</td>\n",
       "      <td>...</td>\n",
       "      <td>...</td>\n",
       "    </tr>\n",
       "    <tr>\n",
       "      <th>356</th>\n",
       "      <td>5</td>\n",
       "      <td>0.100</td>\n",
       "      <td>8</td>\n",
       "      <td>1</td>\n",
       "      <td>0.754725</td>\n",
       "      <td>0.801765</td>\n",
       "      <td>0.701660</td>\n",
       "    </tr>\n",
       "    <tr>\n",
       "      <th>357</th>\n",
       "      <td>5</td>\n",
       "      <td>0.100</td>\n",
       "      <td>8</td>\n",
       "      <td>10</td>\n",
       "      <td>0.880640</td>\n",
       "      <td>0.889356</td>\n",
       "      <td>0.873064</td>\n",
       "    </tr>\n",
       "    <tr>\n",
       "      <th>358</th>\n",
       "      <td>5</td>\n",
       "      <td>0.100</td>\n",
       "      <td>8</td>\n",
       "      <td>2</td>\n",
       "      <td>0.854682</td>\n",
       "      <td>0.874608</td>\n",
       "      <td>0.832367</td>\n",
       "    </tr>\n",
       "    <tr>\n",
       "      <th>359</th>\n",
       "      <td>5</td>\n",
       "      <td>0.100</td>\n",
       "      <td>8</td>\n",
       "      <td>5</td>\n",
       "      <td>0.908324</td>\n",
       "      <td>0.920123</td>\n",
       "      <td>0.897866</td>\n",
       "    </tr>\n",
       "    <tr>\n",
       "      <th>360</th>\n",
       "      <td>5</td>\n",
       "      <td>0.100</td>\n",
       "      <td>8</td>\n",
       "      <td>50</td>\n",
       "      <td>0.908950</td>\n",
       "      <td>0.911915</td>\n",
       "      <td>0.906644</td>\n",
       "    </tr>\n",
       "  </tbody>\n",
       "</table>\n",
       "<p>361 rows × 7 columns</p>\n",
       "</div>"
      ],
      "text/plain": [
       "     num_rounds  learning_rate  batch_size  local_epochs  accuracy  precision  \\\n",
       "0            10          0.001         128             1  0.147939   0.249460   \n",
       "1            10          0.001         128            10  0.451094   0.629112   \n",
       "2            10          0.001         128             2  0.402457   0.526279   \n",
       "3            10          0.001         128             5  0.393199   0.597198   \n",
       "4            10          0.001          16             1  0.397579   0.752582   \n",
       "..          ...            ...         ...           ...       ...        ...   \n",
       "356           5          0.100           8             1  0.754725   0.801765   \n",
       "357           5          0.100           8            10  0.880640   0.889356   \n",
       "358           5          0.100           8             2  0.854682   0.874608   \n",
       "359           5          0.100           8             5  0.908324   0.920123   \n",
       "360           5          0.100           8            50  0.908950   0.911915   \n",
       "\n",
       "       recall  \n",
       "0    0.000934  \n",
       "1    0.117012  \n",
       "2    0.031780  \n",
       "3    0.078594  \n",
       "4    0.092091  \n",
       "..        ...  \n",
       "356  0.701660  \n",
       "357  0.873064  \n",
       "358  0.832367  \n",
       "359  0.897866  \n",
       "360  0.906644  \n",
       "\n",
       "[361 rows x 7 columns]"
      ]
     },
     "execution_count": 5,
     "metadata": {},
     "output_type": "execute_result"
    }
   ],
   "source": [
    "df_without_selection"
   ]
  },
  {
   "cell_type": "code",
   "execution_count": 6,
   "metadata": {},
   "outputs": [],
   "source": [
    "df_with_selection_le_10 = df_with_selection[df_with_selection['local_epochs'] == 10]\n",
    "df_without_selection_le_10 = df_without_selection[df_without_selection['local_epochs'] == 10]"
   ]
  },
  {
   "cell_type": "code",
   "execution_count": 7,
   "metadata": {},
   "outputs": [],
   "source": [
    "df_with_selection_le_10_bz_4 = df_with_selection_le_10[df_with_selection_le_10['batch_size']==4]\n",
    "df_without_selection_le_10_bz_4 = df_without_selection_le_10[df_without_selection_le_10['batch_size']==4]"
   ]
  },
  {
   "cell_type": "code",
   "execution_count": 8,
   "metadata": {},
   "outputs": [],
   "source": [
    "df_with_selection_le_10_bz_4_lr_01 = df_with_selection_le_10_bz_4[df_with_selection_le_10_bz_4['learning_rate']==0.1]\n",
    "df_without_selection_le_10_bz_4_lr_01 = df_without_selection_le_10_bz_4[df_without_selection_le_10_bz_4['learning_rate']==0.1]"
   ]
  },
  {
   "cell_type": "code",
   "execution_count": 9,
   "metadata": {},
   "outputs": [
    {
     "data": {
      "text/plain": [
       "num_rounds\n",
       "1     0.923854\n",
       "5     0.903282\n",
       "10    0.910484\n",
       "50    0.938930\n",
       "Name: accuracy, dtype: float64"
      ]
     },
     "execution_count": 9,
     "metadata": {},
     "output_type": "execute_result"
    }
   ],
   "source": [
    "df_with_selection_le_10_bz_4_lr_01.groupby('num_rounds')['accuracy'].mean()"
   ]
  },
  {
   "cell_type": "code",
   "execution_count": 10,
   "metadata": {},
   "outputs": [
    {
     "data": {
      "text/plain": [
       "num_rounds\n",
       "1     0.919425\n",
       "5     0.910655\n",
       "10    0.914240\n",
       "50    0.936910\n",
       "Name: accuracy, dtype: float64"
      ]
     },
     "execution_count": 10,
     "metadata": {},
     "output_type": "execute_result"
    }
   ],
   "source": [
    "df_without_selection_le_10_bz_4_lr_01.groupby('num_rounds')['accuracy'].mean()"
   ]
  },
  {
   "cell_type": "code",
   "execution_count": 11,
   "metadata": {},
   "outputs": [
    {
     "data": {
      "text/plain": [
       "num_rounds\n",
       "1     0.933331\n",
       "5     0.910170\n",
       "10    0.915415\n",
       "50    0.941140\n",
       "Name: precision, dtype: float64"
      ]
     },
     "execution_count": 11,
     "metadata": {},
     "output_type": "execute_result"
    }
   ],
   "source": [
    "df_with_selection_le_10_bz_4_lr_01.groupby('num_rounds')['precision'].mean()"
   ]
  },
  {
   "cell_type": "code",
   "execution_count": 12,
   "metadata": {},
   "outputs": [
    {
     "data": {
      "text/plain": [
       "num_rounds\n",
       "1     0.927287\n",
       "5     0.917548\n",
       "10    0.919486\n",
       "50    0.939409\n",
       "Name: precision, dtype: float64"
      ]
     },
     "execution_count": 12,
     "metadata": {},
     "output_type": "execute_result"
    }
   ],
   "source": [
    "df_without_selection_le_10_bz_4_lr_01.groupby('num_rounds')['precision'].mean()"
   ]
  },
  {
   "cell_type": "code",
   "execution_count": 13,
   "metadata": {},
   "outputs": [
    {
     "data": {
      "text/plain": [
       "num_rounds\n",
       "1     0.917418\n",
       "5     0.896766\n",
       "10    0.905734\n",
       "50    0.936788\n",
       "Name: recall, dtype: float64"
      ]
     },
     "execution_count": 13,
     "metadata": {},
     "output_type": "execute_result"
    }
   ],
   "source": [
    "df_with_selection_le_10_bz_4_lr_01.groupby('num_rounds')['recall'].mean()"
   ]
  },
  {
   "cell_type": "code",
   "execution_count": 14,
   "metadata": {},
   "outputs": [
    {
     "data": {
      "text/plain": [
       "num_rounds\n",
       "1     0.911209\n",
       "5     0.903871\n",
       "10    0.909933\n",
       "50    0.934466\n",
       "Name: recall, dtype: float64"
      ]
     },
     "execution_count": 14,
     "metadata": {},
     "output_type": "execute_result"
    }
   ],
   "source": [
    "df_without_selection_le_10_bz_4_lr_01.groupby('num_rounds')['recall'].mean()"
   ]
  }
 ],
 "metadata": {
  "kernelspec": {
   "display_name": "Python 3",
   "language": "python",
   "name": "python3"
  },
  "language_info": {
   "codemirror_mode": {
    "name": "ipython",
    "version": 3
   },
   "file_extension": ".py",
   "mimetype": "text/x-python",
   "name": "python",
   "nbconvert_exporter": "python",
   "pygments_lexer": "ipython3",
   "version": "3.11.4"
  },
  "orig_nbformat": 4
 },
 "nbformat": 4,
 "nbformat_minor": 2
}
