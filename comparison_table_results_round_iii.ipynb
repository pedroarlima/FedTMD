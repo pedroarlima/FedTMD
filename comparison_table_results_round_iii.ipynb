{
 "cells": [
  {
   "cell_type": "code",
   "execution_count": 1,
   "metadata": {},
   "outputs": [],
   "source": [
    "import pandas as pd\n",
    "import matplotlib.pyplot as plt\n",
    "import seaborn as sns\n",
    "import numpy as np"
   ]
  },
  {
   "cell_type": "code",
   "execution_count": 2,
   "metadata": {},
   "outputs": [],
   "source": [
    "df_with_selection = pd.read_csv('client-side_simulation_results_with_selection_round_iii.csv')\n",
    "\n",
    "df_without_selection = pd.read_csv('client-side_simulation_results_without_selection_round_iii.csv')"
   ]
  },
  {
   "cell_type": "code",
   "execution_count": 3,
   "metadata": {},
   "outputs": [
    {
     "data": {
      "text/plain": [
       "num_rounds\n",
       "1     0.600554\n",
       "5     0.652005\n",
       "10    0.669187\n",
       "50    0.879943\n",
       "Name: accuracy, dtype: float64"
      ]
     },
     "execution_count": 3,
     "metadata": {},
     "output_type": "execute_result"
    }
   ],
   "source": [
    "df_with_selection.groupby('num_rounds')['accuracy'].mean()\n",
    "\n"
   ]
  },
  {
   "cell_type": "code",
   "execution_count": 4,
   "metadata": {},
   "outputs": [
    {
     "data": {
      "text/plain": [
       "num_rounds\n",
       "1     0.581139\n",
       "5     0.634301\n",
       "10    0.657728\n",
       "50    0.843614\n",
       "Name: accuracy, dtype: float64"
      ]
     },
     "execution_count": 4,
     "metadata": {},
     "output_type": "execute_result"
    }
   ],
   "source": [
    "df_without_selection.groupby('num_rounds')['accuracy'].mean()"
   ]
  },
  {
   "cell_type": "code",
   "execution_count": 5,
   "metadata": {},
   "outputs": [
    {
     "name": "stdout",
     "output_type": "stream",
     "text": [
      "Unnamed: 0       219.000000\n",
      "num_rounds        50.000000\n",
      "learning_rate      0.100000\n",
      "batch_size         4.000000\n",
      "local_epochs      10.000000\n",
      "accuracy           0.976189\n",
      "precision          0.946349\n",
      "recall             0.923101\n",
      "Name: 219, dtype: float64\n"
     ]
    }
   ],
   "source": [
    "# Encontrar o índice da linha com o maior valor na coluna 'accuracy'\n",
    "indice_maior_accuracy = df_without_selection['accuracy'].idxmax()\n",
    "\n",
    "# Selecionar a linha com base no índice encontrado\n",
    "linha_maior_accuracy = df_without_selection.loc[indice_maior_accuracy]\n",
    "\n",
    "# Agora, 'linha_maior_accuracy' contém todas as informações da linha com a maior accuracy\n",
    "print(linha_maior_accuracy)"
   ]
  },
  {
   "cell_type": "code",
   "execution_count": 6,
   "metadata": {},
   "outputs": [
    {
     "name": "stdout",
     "output_type": "stream",
     "text": [
      "Unnamed: 0       215.000000\n",
      "num_rounds        50.000000\n",
      "learning_rate      0.100000\n",
      "batch_size         4.000000\n",
      "local_epochs      10.000000\n",
      "accuracy           0.966078\n",
      "precision          0.972467\n",
      "recall             0.938506\n",
      "Name: 215, dtype: float64\n"
     ]
    }
   ],
   "source": [
    "# Encontrar o índice da linha com o maior valor na coluna 'accuracy'\n",
    "indice_maior_accuracy = df_with_selection['accuracy'].idxmax()\n",
    "\n",
    "# Selecionar a linha com base no índice encontrado\n",
    "linha_maior_accuracy = df_with_selection.loc[indice_maior_accuracy]\n",
    "\n",
    "# Agora, 'linha_maior_accuracy' contém todas as informações da linha com a maior accuracy\n",
    "print(linha_maior_accuracy)"
   ]
  },
  {
   "cell_type": "code",
   "execution_count": null,
   "metadata": {},
   "outputs": [],
   "source": []
  },
  {
   "cell_type": "code",
   "execution_count": 6,
   "metadata": {},
   "outputs": [],
   "source": [
    "df_with_selection_le_10 = df_with_selection[df_with_selection['local_epochs'] == 10]\n",
    "df_without_selection_le_10 = df_without_selection[df_without_selection['local_epochs'] == 10]"
   ]
  },
  {
   "cell_type": "code",
   "execution_count": 7,
   "metadata": {},
   "outputs": [],
   "source": [
    "df_with_selection_le_10_bz_4 = df_with_selection_le_10[df_with_selection_le_10['batch_size']==4]\n",
    "df_without_selection_le_10_bz_4 = df_without_selection_le_10[df_without_selection_le_10['batch_size']==4]"
   ]
  },
  {
   "cell_type": "code",
   "execution_count": 8,
   "metadata": {},
   "outputs": [],
   "source": [
    "df_with_selection_le_10_bz_4_lr_01 = df_with_selection_le_10_bz_4[df_with_selection_le_10_bz_4['learning_rate']==0.1]\n",
    "df_without_selection_le_10_bz_4_lr_01 = df_without_selection_le_10_bz_4[df_without_selection_le_10_bz_4['learning_rate']==0.1]"
   ]
  },
  {
   "cell_type": "code",
   "execution_count": 9,
   "metadata": {},
   "outputs": [
    {
     "data": {
      "text/plain": [
       "num_rounds\n",
       "1     0.923854\n",
       "5     0.903282\n",
       "10    0.910484\n",
       "50    0.938930\n",
       "Name: accuracy, dtype: float64"
      ]
     },
     "execution_count": 9,
     "metadata": {},
     "output_type": "execute_result"
    }
   ],
   "source": [
    "df_with_selection_le_10_bz_4_lr_01.groupby('num_rounds')['accuracy'].mean()"
   ]
  },
  {
   "cell_type": "code",
   "execution_count": 10,
   "metadata": {},
   "outputs": [
    {
     "data": {
      "text/plain": [
       "num_rounds\n",
       "1     0.919425\n",
       "5     0.910655\n",
       "10    0.914240\n",
       "50    0.936910\n",
       "Name: accuracy, dtype: float64"
      ]
     },
     "execution_count": 10,
     "metadata": {},
     "output_type": "execute_result"
    }
   ],
   "source": [
    "df_without_selection_le_10_bz_4_lr_01.groupby('num_rounds')['accuracy'].mean()"
   ]
  },
  {
   "cell_type": "code",
   "execution_count": 11,
   "metadata": {},
   "outputs": [
    {
     "data": {
      "text/plain": [
       "num_rounds\n",
       "1     0.933331\n",
       "5     0.910170\n",
       "10    0.915415\n",
       "50    0.941140\n",
       "Name: precision, dtype: float64"
      ]
     },
     "execution_count": 11,
     "metadata": {},
     "output_type": "execute_result"
    }
   ],
   "source": [
    "df_with_selection_le_10_bz_4_lr_01.groupby('num_rounds')['precision'].mean()"
   ]
  },
  {
   "cell_type": "code",
   "execution_count": 12,
   "metadata": {},
   "outputs": [
    {
     "data": {
      "text/plain": [
       "num_rounds\n",
       "1     0.927287\n",
       "5     0.917548\n",
       "10    0.919486\n",
       "50    0.939409\n",
       "Name: precision, dtype: float64"
      ]
     },
     "execution_count": 12,
     "metadata": {},
     "output_type": "execute_result"
    }
   ],
   "source": [
    "df_without_selection_le_10_bz_4_lr_01.groupby('num_rounds')['precision'].mean()"
   ]
  },
  {
   "cell_type": "code",
   "execution_count": 13,
   "metadata": {},
   "outputs": [
    {
     "data": {
      "text/plain": [
       "num_rounds\n",
       "1     0.917418\n",
       "5     0.896766\n",
       "10    0.905734\n",
       "50    0.936788\n",
       "Name: recall, dtype: float64"
      ]
     },
     "execution_count": 13,
     "metadata": {},
     "output_type": "execute_result"
    }
   ],
   "source": [
    "df_with_selection_le_10_bz_4_lr_01.groupby('num_rounds')['recall'].mean()"
   ]
  },
  {
   "cell_type": "code",
   "execution_count": 14,
   "metadata": {},
   "outputs": [
    {
     "data": {
      "text/plain": [
       "num_rounds\n",
       "1     0.911209\n",
       "5     0.903871\n",
       "10    0.909933\n",
       "50    0.934466\n",
       "Name: recall, dtype: float64"
      ]
     },
     "execution_count": 14,
     "metadata": {},
     "output_type": "execute_result"
    }
   ],
   "source": [
    "df_without_selection_le_10_bz_4_lr_01.groupby('num_rounds')['recall'].mean()"
   ]
  }
 ],
 "metadata": {
  "kernelspec": {
   "display_name": "Python 3",
   "language": "python",
   "name": "python3"
  },
  "language_info": {
   "codemirror_mode": {
    "name": "ipython",
    "version": 3
   },
   "file_extension": ".py",
   "mimetype": "text/x-python",
   "name": "python",
   "nbconvert_exporter": "python",
   "pygments_lexer": "ipython3",
   "version": "3.11.4"
  },
  "orig_nbformat": 4
 },
 "nbformat": 4,
 "nbformat_minor": 2
}
